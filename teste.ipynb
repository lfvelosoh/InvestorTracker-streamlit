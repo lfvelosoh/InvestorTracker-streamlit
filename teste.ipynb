{
 "cells": [
  {
   "cell_type": "code",
   "execution_count": 66,
   "metadata": {},
   "outputs": [],
   "source": [
    "import streamlit as st\n",
    "import pandas as pd\n",
    "import sqlite3\n",
    "import yfinance as yf"
   ]
  },
  {
   "cell_type": "code",
   "execution_count": 79,
   "metadata": {},
   "outputs": [],
   "source": [
    "def get_names():\n",
    "    \n",
    "    conn = sqlite3.connect('database.db')\n",
    "    produtos = pd.read_sql('SELECT * FROM produtos', conn)\n",
    "    conn.close()\n",
    "    \n",
    "    names = pd.DataFrame()\n",
    "\n",
    "    for produto in produtos['Produto']:\n",
    "        ticker = produto + '.SA'\n",
    "        ticker = yf.Ticker(ticker)\n",
    "        name = ticker.info.get('longName')\n",
    "        new_row = pd.DataFrame({'Produto': [produto], 'Nome': [name]})\n",
    "        names = pd.concat([names, new_row], ignore_index=True)\n",
    "    return names"
   ]
  },
  {
   "cell_type": "code",
   "execution_count": 86,
   "metadata": {},
   "outputs": [
    {
     "name": "stderr",
     "output_type": "stream",
     "text": [
      "[*********************100%%**********************]  5 of 5 completed\n",
      "C:\\Users\\lfvel\\AppData\\Local\\Temp\\ipykernel_23068\\1337933766.py:20: FutureWarning: The behavior of array concatenation with empty entries is deprecated. In a future version, this will no longer exclude empty items when determining the result dtype. To retain the old behavior, exclude the empty entries before the concat operation.\n",
      "  produtos['Cotacao Atual'] = merged['Cotacao'].combine_first(merged['Cotacao Atual']).astype(float)\n"
     ]
    },
    {
     "data": {
      "text/html": [
       "<div>\n",
       "<style scoped>\n",
       "    .dataframe tbody tr th:only-of-type {\n",
       "        vertical-align: middle;\n",
       "    }\n",
       "\n",
       "    .dataframe tbody tr th {\n",
       "        vertical-align: top;\n",
       "    }\n",
       "\n",
       "    .dataframe thead th {\n",
       "        text-align: right;\n",
       "    }\n",
       "</style>\n",
       "<table border=\"1\" class=\"dataframe\">\n",
       "  <thead>\n",
       "    <tr style=\"text-align: right;\">\n",
       "      <th></th>\n",
       "      <th>Produto</th>\n",
       "      <th>Nome</th>\n",
       "    </tr>\n",
       "  </thead>\n",
       "  <tbody>\n",
       "    <tr>\n",
       "      <th>0</th>\n",
       "      <td>BTLG11</td>\n",
       "      <td>BTG Pactual Logística Fundo de Investimento Im...</td>\n",
       "    </tr>\n",
       "    <tr>\n",
       "      <th>1</th>\n",
       "      <td>HGCR11</td>\n",
       "      <td>CSHG Recebiveis Imobiliarios BC Fundo de Inves...</td>\n",
       "    </tr>\n",
       "    <tr>\n",
       "      <th>2</th>\n",
       "      <td>HGLG11</td>\n",
       "      <td>Cshg Logistica - Fundo De Investimento Imobili...</td>\n",
       "    </tr>\n",
       "    <tr>\n",
       "      <th>3</th>\n",
       "      <td>RBRP11</td>\n",
       "      <td>Fundo Investimento Imobiliario Rbr Properties Fii</td>\n",
       "    </tr>\n",
       "    <tr>\n",
       "      <th>4</th>\n",
       "      <td>XPIN11</td>\n",
       "      <td>Xp Industrial Fundo Investimento Imobiliario</td>\n",
       "    </tr>\n",
       "  </tbody>\n",
       "</table>\n",
       "</div>"
      ],
      "text/plain": [
       "  Produto                                               Nome\n",
       "0  BTLG11  BTG Pactual Logística Fundo de Investimento Im...\n",
       "1  HGCR11  CSHG Recebiveis Imobiliarios BC Fundo de Inves...\n",
       "2  HGLG11  Cshg Logistica - Fundo De Investimento Imobili...\n",
       "3  RBRP11  Fundo Investimento Imobiliario Rbr Properties Fii\n",
       "4  XPIN11       Xp Industrial Fundo Investimento Imobiliario"
      ]
     },
     "metadata": {},
     "output_type": "display_data"
    }
   ],
   "source": [
    "conn = sqlite3.connect('database.db')\n",
    "produtos = pd.read_sql('SELECT * FROM produtos', conn)\n",
    "conn.close()\n",
    "\n",
    "tickers = produtos['Produto']\n",
    "tickers = tickers.to_list()\n",
    "tickers = [x + '.SA' for x in tickers]\n",
    "\n",
    "data = yf.download(tickers, period='1d')['Close']\n",
    "data = data.reset_index()\n",
    "data = data.melt(id_vars='Date', var_name='Produto', value_name='Cotacao')\n",
    "data = data.rename(columns={'Date': 'Data Cotacao'})\n",
    "data['Data Cotacao'] = data['Data Cotacao'].dt.strftime('%Y-%m-%d')\n",
    "data['Produto'] = data['Produto'].str.replace('.SA', '')\n",
    "\n",
    "# Fazer o merge com base na coluna 'Produto'\n",
    "merged = pd.merge(produtos, data, on='Produto', how='left', suffixes=('', '_novo'))\n",
    "\n",
    "# Atualizar 'Cotacao Atual' e 'Data Cotacao' no DataFrame 'produtos'\n",
    "produtos['Cotacao Atual'] = merged['Cotacao'].combine_first(merged['Cotacao Atual']).astype(float)\n",
    "produtos['Data Cotacao'] = merged['Data Cotacao_novo'].combine_first(merged['Data Cotacao'])\n",
    "produtos['Data Atualizacao'] = pd.Timestamp.now().strftime('%Y-%m-%d %H:%M:%S')\n",
    "\n",
    "names = get_names()\n",
    "display(names)\n",
    "merged2 = pd.merge(produtos, names, on='Produto', how='left', suffixes=('', '_novo'))\n",
    "\n",
    "produtos['Nome'] = merged2['Nome'].combine_first(merged2['Nome_novo'])\n",
    "\n"
   ]
  },
  {
   "cell_type": "code",
   "execution_count": null,
   "metadata": {},
   "outputs": [],
   "source": [
    "\n",
    "conn = sqlite3.connect('database.db')\n",
    "produtos.to_sql('cotacoes', conn, if_exists='replace', index=False)\n",
    "conn.close()\n",
    "\n",
    "return \"Cotacoes atualizadas com sucesso!\""
   ]
  }
 ],
 "metadata": {
  "kernelspec": {
   "display_name": ".venv",
   "language": "python",
   "name": "python3"
  },
  "language_info": {
   "codemirror_mode": {
    "name": "ipython",
    "version": 3
   },
   "file_extension": ".py",
   "mimetype": "text/x-python",
   "name": "python",
   "nbconvert_exporter": "python",
   "pygments_lexer": "ipython3",
   "version": "3.12.3"
  }
 },
 "nbformat": 4,
 "nbformat_minor": 2
}
